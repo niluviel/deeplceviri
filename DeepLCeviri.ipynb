{
 "cells": [
  {
   "cell_type": "code",
   "execution_count": 7,
   "id": "efce6983",
   "metadata": {},
   "outputs": [
    {
     "name": "stdout",
     "output_type": "stream",
     "text": [
      "Translated Paragraph:=> Sadece tercüme et.\n"
     ]
    }
   ],
   "source": [
    "import time\n",
    "from selenium import webdriver\n",
    "from selenium.webdriver.common.by import By\n",
    "from selenium.webdriver.chrome.options import Options\n",
    "\n",
    "lang_code = 'tr'\n",
    "input1 = \"just translate it\"\n",
    "\n",
    "options = Options()\n",
    "options.add_argument('--headless')\n",
    "browser = webdriver.Chrome(options=options)\n",
    "\n",
    "browser.get(\"https://www.deepl.com/translator#en/\" + lang_code + \"/\" + input1)\n",
    "\n",
    "time.sleep(1)\n",
    "output1 = browser.find_element(By.CSS_SELECTOR, '.last\\\\:grow p').text\n",
    "\n",
    "print(\"Translated Paragraph:=> \" + output1)"
   ]
  },
  {
   "cell_type": "code",
   "execution_count": null,
   "id": "8ac62c24",
   "metadata": {},
   "outputs": [],
   "source": []
  }
 ],
 "metadata": {
  "kernelspec": {
   "display_name": "Python 3 (ipykernel)",
   "language": "python",
   "name": "python3"
  },
  "language_info": {
   "codemirror_mode": {
    "name": "ipython",
    "version": 3
   },
   "file_extension": ".py",
   "mimetype": "text/x-python",
   "name": "python",
   "nbconvert_exporter": "python",
   "pygments_lexer": "ipython3",
   "version": "3.11.4"
  }
 },
 "nbformat": 4,
 "nbformat_minor": 5
}
